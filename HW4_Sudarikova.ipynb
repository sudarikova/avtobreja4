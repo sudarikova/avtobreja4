{
 "cells": [
  {
   "cell_type": "code",
   "execution_count": 1,
   "metadata": {
    "collapsed": false
   },
   "outputs": [],
   "source": [
    "import nltk"
   ]
  },
  {
   "cell_type": "code",
   "execution_count": 2,
   "metadata": {
    "collapsed": true
   },
   "outputs": [],
   "source": [
    "from nltk.corpus import wordnet"
   ]
  },
  {
   "cell_type": "code",
   "execution_count": 3,
   "metadata": {
    "collapsed": false
   },
   "outputs": [],
   "source": [
    "from nltk.wsd import lesk"
   ]
  },
  {
   "cell_type": "code",
   "execution_count": 4,
   "metadata": {
    "collapsed": false
   },
   "outputs": [
    {
     "data": {
      "text/plain": [
       "[Synset('plant.n.01'),\n",
       " Synset('plant.n.02'),\n",
       " Synset('plant.n.03'),\n",
       " Synset('plant.n.04'),\n",
       " Synset('plant.v.01'),\n",
       " Synset('implant.v.01'),\n",
       " Synset('establish.v.02'),\n",
       " Synset('plant.v.04'),\n",
       " Synset('plant.v.05'),\n",
       " Synset('plant.v.06')]"
      ]
     },
     "execution_count": 4,
     "metadata": {},
     "output_type": "execute_result"
    }
   ],
   "source": [
    "#1) Найти все значения (синсеты) для лексемы plant\n",
    "wordnet.synsets('plant')"
   ]
  },
  {
   "cell_type": "code",
   "execution_count": 5,
   "metadata": {
    "collapsed": false
   },
   "outputs": [
    {
     "data": {
      "text/plain": [
       "'buildings for carrying on industrial labor'"
      ]
     },
     "execution_count": 5,
     "metadata": {},
     "output_type": "execute_result"
    }
   ],
   "source": [
    "#2) Найти определение для лексемы plant в значении (а) \"завод\" \n",
    "set1 = wordnet.synset('plant.n.01')\n",
    "set1.definition()\n"
   ]
  },
  {
   "cell_type": "code",
   "execution_count": 6,
   "metadata": {
    "collapsed": false
   },
   "outputs": [
    {
     "data": {
      "text/plain": [
       "'(botany) a living organism lacking the power of locomotion'"
      ]
     },
     "execution_count": 6,
     "metadata": {},
     "output_type": "execute_result"
    }
   ],
   "source": [
    "#в значении (b) \"растение\"\n",
    "set2 = wordnet.synset('plant.n.02')\n",
    "set2.definition()#organism"
   ]
  },
  {
   "cell_type": "code",
   "execution_count": 7,
   "metadata": {
    "collapsed": false
   },
   "outputs": [
    {
     "data": {
      "text/plain": [
       "'an actor situated in the audience whose acting is rehearsed but seems spontaneous to the audience'"
      ]
     },
     "execution_count": 7,
     "metadata": {},
     "output_type": "execute_result"
    }
   ],
   "source": [
    "#3) Найдите два произвольных контекста для слова plant в значениях (a) \"завод\"\n",
    "sentence_set1 = u'However, re-introduction of the product was delayed by several years, at least partly due to FDA inaction in inspecting the new manufacturing plant'.split()\n",
    "lesk(sentence_set1, 'plant', 'n').definition()"
   ]
  },
  {
   "cell_type": "code",
   "execution_count": 8,
   "metadata": {
    "collapsed": false
   },
   "outputs": [
    {
     "data": {
      "text/plain": [
       "'an actor situated in the audience whose acting is rehearsed but seems spontaneous to the audience'"
      ]
     },
     "execution_count": 8,
     "metadata": {},
     "output_type": "execute_result"
    }
   ],
   "source": [
    "#и (b) \"растение\"; продемонстрируйте на них действие алгоритма Леска для разрешения неоднозначности\n",
    "sentence_set2 = u'Cassava is a starchy delicacy made from a tropical plant'.split()\n",
    "lesk(sentence_set2, 'plant', 'n').definition()"
   ]
  },
  {
   "cell_type": "code",
   "execution_count": 9,
   "metadata": {
    "collapsed": false
   },
   "outputs": [],
   "source": [
    "#lesk работает плохо"
   ]
  },
  {
   "cell_type": "code",
   "execution_count": 10,
   "metadata": {
    "collapsed": false
   },
   "outputs": [
    {
     "data": {
      "text/plain": [
       "[Synset('building_complex.n.01')]"
      ]
     },
     "execution_count": 10,
     "metadata": {},
     "output_type": "execute_result"
    }
   ],
   "source": [
    "#4) Найдите гиперонимы для значения (a)\n",
    "set1.hypernyms()"
   ]
  },
  {
   "cell_type": "code",
   "execution_count": 11,
   "metadata": {
    "collapsed": false
   },
   "outputs": [
    {
     "data": {
      "text/plain": [
       "[Synset('organism.n.01')]"
      ]
     },
     "execution_count": 11,
     "metadata": {},
     "output_type": "execute_result"
    }
   ],
   "source": [
    "#и гиперонимы для значения (b)\n",
    "set2.hypernyms()"
   ]
  },
  {
   "cell_type": "code",
   "execution_count": 12,
   "metadata": {
    "collapsed": false
   },
   "outputs": [
    {
     "name": "stdout",
     "output_type": "stream",
     "text": [
      "Максимальная схожесть между \"завод\" и industry 0.07142857142857142\n",
      "Максимальная схожесть между \"завод\" и leaf 0.1111111111111111\n",
      "Максимальная схожесть между \"растение\" и industry 0.07692307692307693\n",
      "Максимальная схожесть между \"растение\" и leaf 0.125\n"
     ]
    }
   ],
   "source": [
    "#5) Вычислите наименьшее расстояние между значением plant \"завод\" и значениями лексемы industry, а также plant \"растение\" и значениями лексемы leaf\n",
    "industry = wordnet.synsets('industry')\n",
    "leaf = wordnet.synsets('leaf')\n",
    "max_set1_industry = [set1.path_similarity(i) for i in industry if set1.path_similarity(i) != None]\n",
    "print(u'Максимальная схожесть между \"завод\" и industry', str(max(max_set1_industry)))\n",
    "max_set1_leaf = [set1.path_similarity(i) for i in leaf if set1.path_similarity(i) != None]\n",
    "print(u'Максимальная схожесть между \"завод\" и leaf', str(max(max_set1_leaf)))\n",
    "max_set2_industry = [set2.path_similarity(i) for i in industry if set2.path_similarity(i) != None]\n",
    "print(u'Максимальная схожесть между \"растение\" и industry', str(max(max_set2_industry)))\n",
    "max_set2_leaf = [set2.path_similarity(i) for i in leaf if set2.path_similarity(i) != None]\n",
    "print(u'Максимальная схожесть между \"растение\" и leaf', str(max(max_set2_leaf)))"
   ]
  },
  {
   "cell_type": "code",
   "execution_count": 13,
   "metadata": {
    "collapsed": false
   },
   "outputs": [
    {
     "name": "stdout",
     "output_type": "stream",
     "text": [
      "[Synset('rattlesnake_master.n.01')]\n"
     ]
    }
   ],
   "source": [
    "#6)Вычислить двумя разными способами расстояние:\n",
    "#d(plant: \"растение\", rattlesnake's master) и d(organism, whole)\n",
    "rattlesnake = wordnet.synsets(\"rattlesnake's_master\")\n",
    "print(rattlesnake)"
   ]
  },
  {
   "cell_type": "code",
   "execution_count": 14,
   "metadata": {
    "collapsed": false
   },
   "outputs": [
    {
     "name": "stdout",
     "output_type": "stream",
     "text": [
      "Расстояние между \"растение\" и rattlesnake's_master 0.3333333333333333\n"
     ]
    }
   ],
   "source": [
    "# способ 1:path_similarity\n",
    "set2_rattlesnake = set2.path_similarity(rattlesnake[0])\n",
    "print(u'Расстояние между \"растение\" и rattlesnake\\'s_master', str(set2_rattlesnake))\n"
   ]
  },
  {
   "cell_type": "code",
   "execution_count": 15,
   "metadata": {
    "collapsed": false
   },
   "outputs": [
    {
     "name": "stdout",
     "output_type": "stream",
     "text": [
      "Расстояние между \"растение\" и rattlesnake's_master 0.875\n"
     ]
    }
   ],
   "source": [
    "# способ 2:wup_similarity\n",
    "set2_rattlesnake1 = set2.wup_similarity(rattlesnake[0]) \n",
    "print(u'Расстояние между \"растение\" и rattlesnake\\'s_master', set2_rattlesnake1)"
   ]
  },
  {
   "cell_type": "code",
   "execution_count": 16,
   "metadata": {
    "collapsed": true
   },
   "outputs": [],
   "source": [
    "# wup_similarity лучше отражает интуитивное понятие о семантической близости"
   ]
  },
  {
   "cell_type": "code",
   "execution_count": null,
   "metadata": {
    "collapsed": true
   },
   "outputs": [],
   "source": []
  }
 ],
 "metadata": {
  "anaconda-cloud": {},
  "kernelspec": {
   "display_name": "Python 3",
   "language": "python",
   "name": "python3"
  },
  "language_info": {
   "codemirror_mode": {
    "name": "ipython",
    "version": 3
   },
   "file_extension": ".py",
   "mimetype": "text/x-python",
   "name": "python",
   "nbconvert_exporter": "python",
   "pygments_lexer": "ipython3",
   "version": "3.6.0"
  }
 },
 "nbformat": 4,
 "nbformat_minor": 1
}
