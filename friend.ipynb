{
 "cells": [
  {
   "cell_type": "code",
   "execution_count": 1,
   "metadata": {
    "collapsed": true
   },
   "outputs": [],
   "source": [
    "import codecs \n",
    "import re\n",
    "import pymorphy2\n",
    "import nltk\n",
    "from nltk import RegexpTokenizer\n",
    "def tokenize1(text):    \n",
    "    tokenizer = RegexpTokenizer(r'\\w+')\n",
    "    return tokenizer.tokenize(text)\n"
   ]
  },
  {
   "cell_type": "code",
   "execution_count": 2,
   "metadata": {
    "collapsed": true
   },
   "outputs": [],
   "source": [
    "a = codecs.open('corp.txt', 'r', 'utf-8')\n",
    "f = a.read()\n",
    "morph = pymorphy2.MorphAnalyzer()"
   ]
  },
  {
   "cell_type": "code",
   "execution_count": 3,
   "metadata": {
    "collapsed": false
   },
   "outputs": [
    {
     "data": {
      "text/plain": [
       "['дремать',\n",
       " 'сосна',\n",
       " 'который',\n",
       " 'мрачный',\n",
       " 'свод',\n",
       " 'густой',\n",
       " 'вечно',\n",
       " 'зелёный',\n",
       " 'вершина',\n",
       " 'свой',\n",
       " 'осенять',\n",
       " 'трогательный',\n",
       " 'памятник',\n",
       " 'нежность',\n",
       " 'шуметь',\n",
       " 'сладкий',\n",
       " 'скорбь',\n",
       " 'друг',\n",
       " 'меланхолия',\n",
       " 'отечество',\n",
       " 'друг',\n",
       " 'один',\n",
       " 'чувство',\n",
       " 'горесть',\n",
       " 'меланхолия',\n",
       " 'возможно',\n",
       " 'именно',\n",
       " 'помогать',\n",
       " 'узнать',\n",
       " 'друг',\n",
       " 'друг',\n",
       " 'наверное',\n",
       " 'подружиться',\n",
       " 'слава',\n",
       " 'бог',\n",
       " 'иначе',\n",
       " 'давно',\n",
       " 'друг',\n",
       " 'друг',\n",
       " 'истребить',\n",
       " 'время',\n",
       " 'выпускаться',\n",
       " 'школа',\n",
       " 'безумно',\n",
       " 'грустно',\n",
       " 'время',\n",
       " 'плакать',\n",
       " 'это',\n",
       " 'вроде',\n",
       " 'детство',\n",
       " 'верный',\n",
       " 'друг',\n",
       " 'привычный',\n",
       " 'домашний',\n",
       " 'атомсфера',\n",
       " 'менее',\n",
       " 'заботливый',\n",
       " 'верный',\n",
       " 'друг',\n",
       " 'друг',\n",
       " 'оказываться',\n",
       " 'жук',\n",
       " 'причём',\n",
       " 'слишком',\n",
       " 'престижный',\n",
       " 'специальность',\n",
       " 'короед',\n",
       " 'навозник',\n",
       " 'могильщик',\n",
       " 'продолжительный',\n",
       " 'звонок',\n",
       " 'объявить',\n",
       " 'галина',\n",
       " 'леонид',\n",
       " 'верный',\n",
       " 'друг',\n",
       " 'дом',\n",
       " 'семья',\n",
       " 'умереть',\n",
       " 'лауреат',\n",
       " 'нобелевский',\n",
       " 'премия',\n",
       " 'физика',\n",
       " 'советский',\n",
       " 'американский',\n",
       " 'физик',\n",
       " 'алексей',\n",
       " 'абрикос',\n",
       " 'сообщить',\n",
       " 'бывший',\n",
       " 'министр',\n",
       " 'образование',\n",
       " 'наука',\n",
       " 'дмитрий',\n",
       " 'ливан',\n",
       " 'учёный',\n",
       " 'скончаться',\n",
       " 'возраст',\n",
       " '88',\n",
       " 'год',\n",
       " 'являться',\n",
       " 'академик',\n",
       " 'российский',\n",
       " 'академия',\n",
       " 'наука',\n",
       " 'член',\n",
       " 'национальный',\n",
       " 'академия',\n",
       " 'наука',\n",
       " 'сша',\n",
       " 'лондонский',\n",
       " 'королевский',\n",
       " 'общество']"
      ]
     },
     "execution_count": 3,
     "metadata": {},
     "output_type": "execute_result"
    }
   ],
   "source": [
    "stopwords = nltk.corpus.stopwords.words('russian')\n",
    "corpus = []\n",
    "f = f.lower()\n",
    "words = tokenize1(f)\n",
    "res = [morph.parse(word)[0].normal_form for word in words if word not in stopwords]\n",
    "res"
   ]
  },
  {
   "cell_type": "code",
   "execution_count": 4,
   "metadata": {
    "collapsed": false
   },
   "outputs": [],
   "source": [
    "\n",
    "from nltk.collocations import *\n",
    "bigram_measures = nltk.collocations.BigramAssocMeasures()\n",
    "tr_finder = BigramCollocationFinder.from_words(res)"
   ]
  },
  {
   "cell_type": "code",
   "execution_count": 5,
   "metadata": {
    "collapsed": false
   },
   "outputs": [],
   "source": [
    "tr_finder.apply_word_filter(lambda w: len(w) < 1 or w.lower() in stopwords)\n"
   ]
  },
  {
   "cell_type": "markdown",
   "metadata": {},
   "source": [
    "По частоте:"
   ]
  },
  {
   "cell_type": "code",
   "execution_count": 6,
   "metadata": {
    "collapsed": false
   },
   "outputs": [
    {
     "data": {
      "text/plain": [
       "[('верный', 'друг'),\n",
       " ('друг', 'друг'),\n",
       " ('академия', 'наука'),\n",
       " ('88', 'год'),\n",
       " ('абрикос', 'сообщить'),\n",
       " ('академик', 'российский'),\n",
       " ('алексей', 'абрикос'),\n",
       " ('американский', 'физик'),\n",
       " ('атомсфера', 'менее'),\n",
       " ('безумно', 'грустно')]"
      ]
     },
     "execution_count": 6,
     "metadata": {},
     "output_type": "execute_result"
    }
   ],
   "source": [
    "\n",
    "tr_finder.nbest(bigram_measures.raw_freq, 10)\n"
   ]
  },
  {
   "cell_type": "markdown",
   "metadata": {},
   "source": [
    "По ЛЛ:"
   ]
  },
  {
   "cell_type": "code",
   "execution_count": 7,
   "metadata": {
    "collapsed": false
   },
   "outputs": [
    {
     "data": {
      "text/plain": [
       "[('академия', 'наука'),\n",
       " ('верный', 'друг'),\n",
       " ('88', 'год'),\n",
       " ('абрикос', 'сообщить'),\n",
       " ('академик', 'российский'),\n",
       " ('алексей', 'абрикос'),\n",
       " ('американский', 'физик'),\n",
       " ('атомсфера', 'менее'),\n",
       " ('безумно', 'грустно'),\n",
       " ('бог', 'иначе')]"
      ]
     },
     "execution_count": 7,
     "metadata": {},
     "output_type": "execute_result"
    }
   ],
   "source": [
    "tr_finder.nbest(bigram_measures.likelihood_ratio, 10)"
   ]
  },
  {
   "cell_type": "code",
   "execution_count": null,
   "metadata": {
    "collapsed": true
   },
   "outputs": [],
   "source": []
  }
 ],
 "metadata": {
  "kernelspec": {
   "display_name": "Python 3",
   "language": "python",
   "name": "python3"
  },
  "language_info": {
   "codemirror_mode": {
    "name": "ipython",
    "version": 3
   },
   "file_extension": ".py",
   "mimetype": "text/x-python",
   "name": "python",
   "nbconvert_exporter": "python",
   "pygments_lexer": "ipython3",
   "version": "3.6.0"
  }
 },
 "nbformat": 4,
 "nbformat_minor": 2
}
